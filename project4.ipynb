{
 "cells": [
  {
   "cell_type": "code",
   "execution_count": null,
   "id": "2a00f184-5e78-4a71-9faf-605988d26240",
   "metadata": {},
   "outputs": [],
   "source": [
    "import random\n",
    "import string\n",
    "import tkinter as tk\n",
    "from tkinter import scrolledtext\n",
    "\n",
    "def generate_password(length):\n",
    "    if length < 4:\n",
    "        return \"Length must be at least 4\"\n",
    "    \n",
    "    characters = string.ascii_letters + string.digits + string.punctuation\n",
    "    \n",
    "    password = [\n",
    "        random.choice(string.ascii_lowercase),\n",
    "        random.choice(string.ascii_uppercase),\n",
    "        random.choice(string.digits),\n",
    "        random.choice(string.punctuation)\n",
    "    ]\n",
    "    \n",
    "    password += random.choices(characters, k=length - 4)\n",
    "    random.shuffle(password)\n",
    "    \n",
    "    return ''.join(password)\n",
    "\n",
    "def generate_passwords():\n",
    "    try:\n",
    "        length = int(length_entry.get())\n",
    "        number = int(number_entry.get())\n",
    "        passwords = [generate_password(length) for _ in range(number)]\n",
    "        output_area.delete(1.0, tk.END)\n",
    "        output_area.insert(tk.END, \"\\n\".join(passwords))\n",
    "    except ValueError:\n",
    "        output_area.delete(1.0, tk.END)\n",
    "        output_area.insert(tk.END, \"Please enter valid numbers.\")\n",
    "\n",
    "root = tk.Tk()\n",
    "root.title(\"Password Generator\")\n",
    "\n",
    "tk.Label(root, text=\"Password Length:\").pack()\n",
    "length_entry = tk.Entry(root)\n",
    "length_entry.pack()\n",
    "\n",
    "tk.Label(root, text=\"Number of Passwords:\").pack()\n",
    "number_entry = tk.Entry(root)\n",
    "number_entry.pack()\n",
    "\n",
    "generate_button = tk.Button(root, text=\"Generate Passwords\", command=generate_passwords)\n",
    "generate_button.pack()\n",
    "\n",
    "output_area = scrolledtext.ScrolledText(root, width=40, height=10)\n",
    "output_area.pack()\n",
    "\n",
    "root.mainloop()\n"
   ]
  },
  {
   "cell_type": "code",
   "execution_count": null,
   "id": "d1d8a4d0-b9da-4bd2-81f3-3b2701d204ab",
   "metadata": {},
   "outputs": [],
   "source": [
    "\n"
   ]
  },
  {
   "cell_type": "code",
   "execution_count": 1,
   "id": "2ceb757c-e54a-4fc8-8c65-c197235f3f00",
   "metadata": {},
   "outputs": [],
   "source": [
    "\n"
   ]
  },
  {
   "cell_type": "code",
   "execution_count": null,
   "id": "9c72402f-a070-4c6c-9b05-5610d95265cc",
   "metadata": {},
   "outputs": [],
   "source": []
  }
 ],
 "metadata": {
  "kernelspec": {
   "display_name": "Python 3 (ipykernel)",
   "language": "python",
   "name": "python3"
  },
  "language_info": {
   "codemirror_mode": {
    "name": "ipython",
    "version": 3
   },
   "file_extension": ".py",
   "mimetype": "text/x-python",
   "name": "python",
   "nbconvert_exporter": "python",
   "pygments_lexer": "ipython3",
   "version": "3.9.13"
  }
 },
 "nbformat": 4,
 "nbformat_minor": 5
}
