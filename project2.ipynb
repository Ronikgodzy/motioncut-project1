{
 "cells": [
  {
   "cell_type": "code",
   "execution_count": 6,
   "id": "8c5d80cc-c7ae-410c-afe1-44825fb96387",
   "metadata": {},
   "outputs": [
    {
     "name": "stdin",
     "output_type": "stream",
     "text": [
      "Please enter a sentence or paragraph:  how are you?\n"
     ]
    },
    {
     "name": "stdout",
     "output_type": "stream",
     "text": [
      "The number of words in the input is: 3\n"
     ]
    }
   ],
   "source": [
    "def count_words(text):\n",
    "    \"\"\"\n",
    "    Counts the number of words in the given text.\n",
    "\n",
    "    Parameters:\n",
    "    text (str): The text to count words in.\n",
    "\n",
    "    Returns:\n",
    "    int: The number of words in the text.\n",
    "    \"\"\"\n",
    "    # Splitting the text by spaces to count words\n",
    "    words = text.split()\n",
    "    return len(words)\n",
    "\n",
    "def main():\n",
    "    user_input = input(\"Please enter a sentence or paragraph: \")\n",
    "    if not user_input.strip():\n",
    "        print(\"Error: The input cannot be empty.\")\n",
    "        return\n",
    "    word_count = count_words(user_input)\n",
    "    print(f\"The number of words in the input is: {word_count}\")\n",
    "if __name__ == \"__main__\":\n",
    "    main()\n"
   ]
  },
  {
   "cell_type": "code",
   "execution_count": 4,
   "id": "afae2540-e0cc-409f-b2a8-630f9a3a1d8b",
   "metadata": {},
   "outputs": [],
   "source": [
    "\n"
   ]
  },
  {
   "cell_type": "code",
   "execution_count": null,
   "id": "a78a17ec-af1d-4e01-9995-508a30d2416a",
   "metadata": {},
   "outputs": [],
   "source": []
  }
 ],
 "metadata": {
  "kernelspec": {
   "display_name": "Python 3 (ipykernel)",
   "language": "python",
   "name": "python3"
  },
  "language_info": {
   "codemirror_mode": {
    "name": "ipython",
    "version": 3
   },
   "file_extension": ".py",
   "mimetype": "text/x-python",
   "name": "python",
   "nbconvert_exporter": "python",
   "pygments_lexer": "ipython3",
   "version": "3.9.13"
  }
 },
 "nbformat": 4,
 "nbformat_minor": 5
}
