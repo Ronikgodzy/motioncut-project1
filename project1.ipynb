{
 "cells": [
  {
   "cell_type": "code",
   "execution_count": 1,
   "id": "2f14afcb-ab4e-4ea9-bd51-ac3b41cf0e95",
   "metadata": {},
   "outputs": [
    {
     "name": "stdout",
     "output_type": "stream",
     "text": [
      "What is the capital of France?\n",
      "1. Berlin\n",
      "2. Madrid\n",
      "3. Paris\n",
      "4. Lisbon\n"
     ]
    },
    {
     "name": "stdin",
     "output_type": "stream",
     "text": [
      "Your answer (1/2/3/4):  3\n"
     ]
    },
    {
     "name": "stdout",
     "output_type": "stream",
     "text": [
      "Correct!\n",
      "Which planet is known as the Red Planet?\n",
      "1. Earth\n",
      "2. Mars\n",
      "3. Jupiter\n",
      "4. Saturn\n"
     ]
    },
    {
     "name": "stdin",
     "output_type": "stream",
     "text": [
      "Your answer (1/2/3/4):  2\n"
     ]
    },
    {
     "name": "stdout",
     "output_type": "stream",
     "text": [
      "Correct!\n",
      "What is the largest ocean on Earth?\n",
      "1. Atlantic Ocean\n",
      "2. Indian Ocean\n",
      "3. Arctic Ocean\n",
      "4. Pacific Ocean\n"
     ]
    },
    {
     "name": "stdin",
     "output_type": "stream",
     "text": [
      "Your answer (1/2/3/4):  4\n"
     ]
    },
    {
     "name": "stdout",
     "output_type": "stream",
     "text": [
      "Correct!\n",
      "What is the primary function of an operating system?\n",
      "1. Compiling programs\n",
      "2. Managing computer resources\n",
      "3. Designing software\n",
      "4. Executing user commands\n"
     ]
    },
    {
     "name": "stdin",
     "output_type": "stream",
     "text": [
      "Your answer (1/2/3/4):  2\n"
     ]
    },
    {
     "name": "stdout",
     "output_type": "stream",
     "text": [
      "Correct!\n",
      "Which of the following is a type of operating system?\n",
      "1. Microsoft Office\n",
      "2. Unix\n",
      "3. Photoshop\n",
      "4. Google Chrome\n"
     ]
    },
    {
     "name": "stdin",
     "output_type": "stream",
     "text": [
      "Your answer (1/2/3/4):  2\n"
     ]
    },
    {
     "name": "stdout",
     "output_type": "stream",
     "text": [
      "Correct!\n",
      "What is the name of the operating system developed by Apple for its computers?\n",
      "1. Windows\n",
      "2. Linux\n",
      "3. macOS\n",
      "4. Android\n"
     ]
    },
    {
     "name": "stdin",
     "output_type": "stream",
     "text": [
      "Your answer (1/2/3/4):  3\n"
     ]
    },
    {
     "name": "stdout",
     "output_type": "stream",
     "text": [
      "Correct!\n",
      "What is a kernel in the context of an operating system?\n",
      "1. The user interface of the operating system\n",
      "2. The core component that manages system resources\n",
      "3. A type of application software\n",
      "4. A peripheral device\n"
     ]
    },
    {
     "name": "stdin",
     "output_type": "stream",
     "text": [
      "Your answer (1/2/3/4):  1\n"
     ]
    },
    {
     "name": "stdout",
     "output_type": "stream",
     "text": [
      "Wrong! The correct answer was: The core component that manages system resources\n",
      "Which operating system is known for its use in servers and supercomputers?\n",
      "1. Windows\n",
      "2. macOS\n",
      "3. Linux\n",
      "4. Android\n"
     ]
    },
    {
     "name": "stdin",
     "output_type": "stream",
     "text": [
      "Your answer (1/2/3/4):  3\n"
     ]
    },
    {
     "name": "stdout",
     "output_type": "stream",
     "text": [
      "Correct!\n",
      "\n",
      "Your final score is: 7/8\n"
     ]
    }
   ],
   "source": [
    "def ask_question(question, options, correct_answer):\n",
    "    print(question)\n",
    "    for i, option in enumerate(options, 1):\n",
    "        print(f\"{i}. {option}\")\n",
    "    while True:\n",
    "        try:\n",
    "            user_input = int(input(\"Your answer (1/2/3/4): \"))\n",
    "            if 1 <= user_input <= len(options):\n",
    "                break\n",
    "            else:\n",
    "                print(\"Invalid input. Please enter a number between 1 and 4.\")\n",
    "        except ValueError:\n",
    "            print(\"Invalid input. Please enter a number between 1 and 4.\")\n",
    "    \n",
    "    if options[user_input - 1].lower() == correct_answer.lower():\n",
    "        print(\"Correct!\")\n",
    "        return True\n",
    "    else:\n",
    "        print(f\"Wrong! The correct answer was: {correct_answer}\")\n",
    "        return False\n",
    "\n",
    "def main():\n",
    "    questions = [\n",
    "        {\n",
    "            \"question\": \"What is the capital of France?\",\n",
    "            \"options\": [\"Berlin\", \"Madrid\", \"Paris\", \"Lisbon\"],\n",
    "            \"answer\": \"Paris\"\n",
    "        },\n",
    "        {\n",
    "            \"question\": \"Which planet is known as the Red Planet?\",\n",
    "            \"options\": [\"Earth\", \"Mars\", \"Jupiter\", \"Saturn\"],\n",
    "            \"answer\": \"Mars\"\n",
    "        },\n",
    "        {\n",
    "            \"question\": \"What is the largest ocean on Earth?\",\n",
    "            \"options\": [\"Atlantic Ocean\", \"Indian Ocean\", \"Arctic Ocean\", \"Pacific Ocean\"],\n",
    "            \"answer\": \"Pacific Ocean\"\n",
    "        },\n",
    "        {\n",
    "            \"question\": \"What is the primary function of an operating system?\",\n",
    "            \"options\": [\"Compiling programs\", \"Managing computer resources\", \"Designing software\", \"Executing user commands\"],\n",
    "            \"answer\": \"Managing computer resources\"\n",
    "        },\n",
    "        {\n",
    "            \"question\": \"Which of the following is a type of operating system?\",\n",
    "            \"options\": [\"Microsoft Office\", \"Unix\", \"Photoshop\", \"Google Chrome\"],\n",
    "            \"answer\": \"Unix\"\n",
    "        },\n",
    "        {\n",
    "            \"question\": \"What is the name of the operating system developed by Apple for its computers?\",\n",
    "            \"options\": [\"Windows\", \"Linux\", \"macOS\", \"Android\"],\n",
    "            \"answer\": \"macOS\"\n",
    "        },\n",
    "        {\n",
    "            \"question\": \"What is a kernel in the context of an operating system?\",\n",
    "            \"options\": [\"The user interface of the operating system\", \"The core component that manages system resources\", \"A type of application software\", \"A peripheral device\"],\n",
    "            \"answer\": \"The core component that manages system resources\"\n",
    "        },\n",
    "        {\n",
    "            \"question\": \"Which operating system is known for its use in servers and supercomputers?\",\n",
    "            \"options\": [\"Windows\", \"macOS\", \"Linux\", \"Android\"],\n",
    "            \"answer\": \"Linux\"\n",
    "        }\n",
    "    ]\n",
    "\n",
    "    score = 0\n",
    "    for q in questions:\n",
    "        if ask_question(q[\"question\"], q[\"options\"], q[\"answer\"]):\n",
    "            score += 1\n",
    "\n",
    "    print(f\"\\nYour final score is: {score}/{len(questions)}\")\n",
    "\n",
    "if __name__ == \"__main__\":\n",
    "    main()"
   ]
  },
  {
   "cell_type": "code",
   "execution_count": null,
   "id": "dd2b0638-f7b0-4d70-97b3-4eb5f159245c",
   "metadata": {},
   "outputs": [],
   "source": []
  }
 ],
 "metadata": {
  "kernelspec": {
   "display_name": "Python 3 (ipykernel)",
   "language": "python",
   "name": "python3"
  },
  "language_info": {
   "codemirror_mode": {
    "name": "ipython",
    "version": 3
   },
   "file_extension": ".py",
   "mimetype": "text/x-python",
   "name": "python",
   "nbconvert_exporter": "python",
   "pygments_lexer": "ipython3",
   "version": "3.9.13"
  }
 },
 "nbformat": 4,
 "nbformat_minor": 5
}
